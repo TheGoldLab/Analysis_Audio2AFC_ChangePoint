{
 "cells": [
  {
   "cell_type": "code",
   "execution_count": 3,
   "metadata": {},
   "outputs": [],
   "source": [
    "from IPython.display import HTML\n",
    "import Python_modules.mmcomplexity as mmx"
   ]
  },
  {
   "cell_type": "code",
   "execution_count": 8,
   "metadata": {},
   "outputs": [],
   "source": [
    "import pprint"
   ]
  },
  {
   "cell_type": "code",
   "execution_count": 6,
   "metadata": {},
   "outputs": [
    {
     "data": {
      "text/html": [
       "\n",
       "    <script>\n",
       "    code_show=true; \n",
       "    function code_toggle() {\n",
       "     if (code_show){\n",
       "     $('div.input').hide();\n",
       "     } else {\n",
       "     $('div.input').show();\n",
       "     }\n",
       "     code_show = !code_show\n",
       "    } \n",
       "    $( document ).ready(code_toggle);\n",
       "    </script>\n",
       "    <a href=\"javascript:code_toggle()\">TOGGLE CODE ON/OFF</a>\n",
       "    "
      ],
      "text/plain": [
       "<IPython.core.display.HTML object>"
      ]
     },
     "execution_count": 6,
     "metadata": {},
     "output_type": "execute_result"
    }
   ],
   "source": [
    "HTML(\n",
    "    '''\n",
    "    <script>\n",
    "    code_show=true; \n",
    "    function code_toggle() {\n",
    "     if (code_show){\n",
    "     $('div.input').hide();\n",
    "     } else {\n",
    "     $('div.input').show();\n",
    "     }\n",
    "     code_show = !code_show\n",
    "    } \n",
    "    $( document ).ready(code_toggle);\n",
    "    </script>\n",
    "    <a href=\"javascript:code_toggle()\">TOGGLE CODE ON/OFF</a>\n",
    "    '''\n",
    ")"
   ]
  },
  {
   "cell_type": "markdown",
   "metadata": {},
   "source": [
    "# Basic examples of `mmcomplexity` module"
   ]
  },
  {
   "cell_type": "markdown",
   "metadata": {},
   "source": [
    "We generate a block of 10 trials with hazard rate 0.3:"
   ]
  },
  {
   "cell_type": "code",
   "execution_count": 4,
   "metadata": {},
   "outputs": [
    {
     "name": "stdout",
     "output_type": "stream",
     "text": [
      "object of type <class 'Python_modules.mmcomplexity.StimulusBlock'> \n",
      " sources: ['right', 'right', 'right', 'right', 'right', 'left', 'left', 'left', 'left', 'left'] \n",
      " sounds: ['right', 'right', 'right', 'right', 'right', 'left', 'right', 'left', 'left', 'right'] \n",
      "\n"
     ]
    }
   ],
   "source": [
    "num_trials = 10\n",
    "hazard_rate = 0.3\n",
    "stimulus = mmx.StimulusBlock(num_trials, hazard_rate)\n",
    "print(stimulus)"
   ]
  },
  {
   "cell_type": "markdown",
   "metadata": {},
   "source": [
    "Next, we create an ideal observer and run the estimation task on it:"
   ]
  },
  {
   "cell_type": "code",
   "execution_count": 5,
   "metadata": {},
   "outputs": [],
   "source": [
    "observer = mmx.BinaryDecisionMaker(stimulus)"
   ]
  },
  {
   "cell_type": "code",
   "execution_count": 6,
   "metadata": {},
   "outputs": [
    {
     "name": "stdout",
     "output_type": "stream",
     "text": [
      "observations: ['right', 'right', 'right', 'right', 'right', 'left', 'right', 'left', 'left', 'right']\n"
     ]
    }
   ],
   "source": [
    "observer.observe()\n",
    "print(f\"observations: {observer.observations}\")"
   ]
  },
  {
   "cell_type": "code",
   "execution_count": 9,
   "metadata": {},
   "outputs": [
    {
     "name": "stdout",
     "output_type": "stream",
     "text": [
      "(\"decisions: [(1.3862943611198908, 'right'), (1.8758425864385966, 'right'), \"\n",
      " \"(1.9915296693569562, 'right'), (2.0139687498320535, 'right'), \"\n",
      " \"(2.018115871613622, 'right'), (-0.7537135698082844, 'left'), \"\n",
      " \"(1.0962992690679632, 'right'), (-0.981552437257581, 'left'), \"\n",
      " \"(-1.7542564601291148, 'left'), (0.8066066528442459, 'right')]\")\n"
     ]
    }
   ],
   "source": [
    "decisions = list(observer.process())\n",
    "pprint.pprint(f\"decisions: {decisions}\")"
   ]
  },
  {
   "cell_type": "markdown",
   "metadata": {},
   "source": [
    "Now, we generate a few blocks and display the stimulus info as a data frame"
   ]
  },
  {
   "cell_type": "code",
   "execution_count": 16,
   "metadata": {},
   "outputs": [],
   "source": [
    "tot_trials, h_values, meta_k, meta_prior_h = 50, [.01, .99], .1, [.7, .3]\n",
    "sim = mmx.Audio2AFCSimulation(tot_trials, h_values, meta_k, meta_prior_h)"
   ]
  },
  {
   "cell_type": "code",
   "execution_count": 17,
   "metadata": {},
   "outputs": [
    {
     "name": "stdout",
     "output_type": "stream",
     "text": [
      "   source  sound  hazard\n",
      "0    left  right    0.01\n",
      "1    left  right    0.01\n",
      "2   right   left    0.99\n",
      "3    left   left    0.99\n",
      "4   right  right    0.99\n",
      "5    left   left    0.99\n",
      "6   right  right    0.99\n",
      "7    left   left    0.99\n",
      "8    left  right    0.01\n",
      "9    left   left    0.01\n",
      "10   left   left    0.01\n",
      "11   left  right    0.01\n",
      "12   left   left    0.01\n",
      "13   left   left    0.01\n",
      "14   left   left    0.01\n",
      "15   left   left    0.01\n",
      "16   left  right    0.01\n",
      "17   left   left    0.01\n",
      "18   left   left    0.01\n",
      "19   left   left    0.01\n",
      "20   left   left    0.01\n",
      "21   left   left    0.01\n",
      "22   left  right    0.01\n",
      "23   left   left    0.01\n",
      "24   left   left    0.01\n",
      "25   left   left    0.01\n",
      "26   left   left    0.01\n",
      "27   left  right    0.01\n",
      "28   left   left    0.01\n",
      "29   left  right    0.01\n",
      "30   left   left    0.01\n",
      "31  right  right    0.99\n",
      "32   left   left    0.99\n",
      "33  right  right    0.99\n",
      "34   left   left    0.99\n",
      "35  right   left    0.99\n",
      "36   left   left    0.99\n",
      "37  right   left    0.99\n",
      "38   left  right    0.99\n",
      "39  right  right    0.99\n",
      "40   left   left    0.99\n",
      "41  right  right    0.99\n",
      "42   left   left    0.99\n",
      "43  right   left    0.99\n",
      "44   left   left    0.99\n",
      "45  right   left    0.99\n",
      "46   left  right    0.99\n",
      "47   left   left    0.01\n",
      "48   left   left    0.01\n",
      "49   left   left    0.01\n"
     ]
    }
   ],
   "source": [
    "pprint.pprint(sim.data)"
   ]
  },
  {
   "cell_type": "code",
   "execution_count": null,
   "metadata": {},
   "outputs": [],
   "source": []
  }
 ],
 "metadata": {
  "kernelspec": {
   "display_name": "Python 3.7 (mmcomplexity)",
   "language": "python",
   "name": "mmcomplexity"
  },
  "language_info": {
   "codemirror_mode": {
    "name": "ipython",
    "version": 3
   },
   "file_extension": ".py",
   "mimetype": "text/x-python",
   "name": "python",
   "nbconvert_exporter": "python",
   "pygments_lexer": "ipython3",
   "version": "3.7.3"
  },
  "toc": {
   "base_numbering": 1,
   "nav_menu": {},
   "number_sections": true,
   "sideBar": true,
   "skip_h1_title": false,
   "title_cell": "Table of Contents",
   "title_sidebar": "Contents",
   "toc_cell": false,
   "toc_position": {},
   "toc_section_display": true,
   "toc_window_display": false
  }
 },
 "nbformat": 4,
 "nbformat_minor": 2
}
