{
 "cells": [
  {
   "cell_type": "code",
   "execution_count": 1,
   "metadata": {},
   "outputs": [],
   "source": [
    "from IPython.display import HTML\n",
    "import pprint\n",
    "import numpy as np\n",
    "import matplotlib.pyplot as plt\n",
    "import Python_modules.mmcomplexity as mmx"
   ]
  },
  {
   "cell_type": "code",
   "execution_count": 2,
   "metadata": {},
   "outputs": [],
   "source": [
    "TITLE_FS = 22\n",
    "AXES_FS = 22\n",
    "LW = 3"
   ]
  },
  {
   "cell_type": "code",
   "execution_count": 3,
   "metadata": {},
   "outputs": [
    {
     "data": {
      "text/html": [
       "\n",
       "    <script>\n",
       "    code_show=true; \n",
       "    function code_toggle() {\n",
       "     if (code_show){\n",
       "     $('div.input').hide();\n",
       "     } else {\n",
       "     $('div.input').show();\n",
       "     }\n",
       "     code_show = !code_show\n",
       "    } \n",
       "    $( document ).ready(code_toggle);\n",
       "    </script>\n",
       "    <a href=\"javascript:code_toggle()\">TOGGLE CODE ON/OFF</a>\n",
       "    "
      ],
      "text/plain": [
       "<IPython.core.display.HTML object>"
      ]
     },
     "execution_count": 3,
     "metadata": {},
     "output_type": "execute_result"
    }
   ],
   "source": [
    "HTML(\n",
    "    '''\n",
    "    <script>\n",
    "    code_show=true; \n",
    "    function code_toggle() {\n",
    "     if (code_show){\n",
    "     $('div.input').hide();\n",
    "     } else {\n",
    "     $('div.input').show();\n",
    "     }\n",
    "     code_show = !code_show\n",
    "    } \n",
    "    $( document ).ready(code_toggle);\n",
    "    </script>\n",
    "    <a href=\"javascript:code_toggle()\">TOGGLE CODE ON/OFF</a>\n",
    "    '''\n",
    ")"
   ]
  },
  {
   "cell_type": "markdown",
   "metadata": {},
   "source": [
    "# Basic examples of `mmcomplexity` module"
   ]
  },
  {
   "cell_type": "markdown",
   "metadata": {},
   "source": [
    "We generate a block of 10 trials with hazard rate 0.3:"
   ]
  },
  {
   "cell_type": "code",
   "execution_count": 4,
   "metadata": {},
   "outputs": [
    {
     "name": "stdout",
     "output_type": "stream",
     "text": [
      "object of type <class 'Python_modules.mmcomplexity.StimulusBlock'> \n",
      " sources: ['right', 'right', 'left', 'right', 'right', 'left', 'right', 'right', 'right', 'left'] \n",
      " sounds: ['right', 'right', 'left', 'right', 'right', 'right', 'right', 'right', 'left', 'left'] \n",
      "\n"
     ]
    }
   ],
   "source": [
    "num_trials = 10\n",
    "hazard_rate = 0.3\n",
    "stimulus = mmx.StimulusBlock(num_trials, hazard_rate)\n",
    "print(stimulus)"
   ]
  },
  {
   "cell_type": "markdown",
   "metadata": {},
   "source": [
    "Next, we create an ideal observer and run the estimation task on it:"
   ]
  },
  {
   "cell_type": "code",
   "execution_count": 5,
   "metadata": {},
   "outputs": [],
   "source": [
    "observer = mmx.BinaryDecisionMaker(stimulus)"
   ]
  },
  {
   "cell_type": "code",
   "execution_count": 6,
   "metadata": {},
   "outputs": [
    {
     "name": "stdout",
     "output_type": "stream",
     "text": [
      "observations: ['right', 'right', 'left', 'right', 'right', 'right', 'right', 'right', 'left', 'left']\n"
     ]
    }
   ],
   "source": [
    "observer.observe()\n",
    "print(f\"observations: {observer.observations}\")"
   ]
  },
  {
   "cell_type": "code",
   "execution_count": 7,
   "metadata": {},
   "outputs": [
    {
     "name": "stdout",
     "output_type": "stream",
     "text": [
      "(\"decisions: [(1.3862943611198908, 'right'), (1.8758425864385966, 'right'), \"\n",
      " \"(-0.7810590528828254, 'left'), (1.0866182904974755, 'right'), \"\n",
      " \"(1.7880015257711177, 'right'), (1.9732783469547484, 'right'), \"\n",
      " \"(2.0105469812067183, 'right'), (2.017487711019246, 'right'), \"\n",
      " \"(-0.753828433925595, 'left'), (-1.6763302910878068, 'left')]\")\n"
     ]
    }
   ],
   "source": [
    "decisions = list(observer.process())\n",
    "pprint.pprint(f\"decisions: {decisions}\")"
   ]
  },
  {
   "cell_type": "markdown",
   "metadata": {},
   "source": [
    "Now, we generate a few blocks and display the stimulus info as a data frame (first few lines)"
   ]
  },
  {
   "cell_type": "code",
   "execution_count": 8,
   "metadata": {},
   "outputs": [],
   "source": [
    "tot_trials, h_values, meta_k, meta_prior_h = 500, [.3], 0, [1]\n",
    "sim = mmx.Audio2AFCSimulation(tot_trials, h_values, meta_k, meta_prior_h)"
   ]
  },
  {
   "cell_type": "code",
   "execution_count": 9,
   "metadata": {},
   "outputs": [
    {
     "name": "stdout",
     "output_type": "stream",
     "text": [
      "  source  source_switch sound  sound_switch  hazard  hazard_switch\n",
      "0   left          False  left         False     0.3          False\n",
      "1  right           True  left         False     0.3          False\n",
      "2   left           True  left         False     0.3          False\n",
      "3   left          False  left         False     0.3          False\n",
      "4   left          False  left         False     0.3          False\n"
     ]
    }
   ],
   "source": [
    "pprint.pprint(sim.data.head())"
   ]
  },
  {
   "cell_type": "markdown",
   "metadata": {},
   "source": [
    "Now, we will display the cumulative frequencies of sound switches and source switches."
   ]
  },
  {
   "cell_type": "code",
   "execution_count": 10,
   "metadata": {},
   "outputs": [],
   "source": [
    "sound_switch_cumcount = np.cumsum(sim.data.loc[1:,\"sound_switch\"]) \n",
    "source_switch_cumcount = np.cumsum(sim.data.loc[1:,\"source_switch\"])\n",
    "cum_trial = np.arange(1, source_switch_cumcount.size + 1)"
   ]
  },
  {
   "cell_type": "code",
   "execution_count": 11,
   "metadata": {},
   "outputs": [
    {
     "data": {
      "text/plain": [
       "<matplotlib.legend.Legend at 0x7fa0d5112198>"
      ]
     },
     "execution_count": 11,
     "metadata": {},
     "output_type": "execute_result"
    },
    {
     "data": {
      "image/png": "[encoded data removed]",
      "text/plain": [
       "<Figure size 1152x504 with 1 Axes>"
      ]
     },
     "metadata": {
      "needs_background": "light"
     },
     "output_type": "display_data"
    }
   ],
   "source": [
    "%matplotlib inline\n",
    "plt.rcParams[\"figure.figsize\"] = (16, 7) # (w, h) # figure size \n",
    "plt.rcParams.update({'font.size': AXES_FS}) # font size on axes\n",
    "# plt.subplots_adjust(wspace=0.5) # horizontal space between panels\n",
    "\n",
    "plt.plot(cum_trial, sound_switch_cumcount / cum_trial, linewidth=LW)\n",
    "plt.plot(cum_trial, source_switch_cumcount / cum_trial, linewidth=LW)\n",
    "plt.hlines(h_values, xmin=cum_trial[0], xmax=cum_trial[-1])\n",
    "plt.legend(['sound', 'source', 'true h'])"
   ]
  },
  {
   "cell_type": "code",
   "execution_count": null,
   "metadata": {},
   "outputs": [],
   "source": []
  }
 ],
 "metadata": {
  "kernelspec": {
   "display_name": "Python 3.7 (mmcomplexity)",
   "language": "python",
   "name": "mmcomplexity"
  },
  "language_info": {
   "codemirror_mode": {
    "name": "ipython",
    "version": 3
   },
   "file_extension": ".py",
   "mimetype": "text/x-python",
   "name": "python",
   "nbconvert_exporter": "python",
   "pygments_lexer": "ipython3",
   "version": "3.7.3"
  },
  "toc": {
   "base_numbering": 1,
   "nav_menu": {},
   "number_sections": true,
   "sideBar": true,
   "skip_h1_title": false,
   "title_cell": "Table of Contents",
   "title_sidebar": "Contents",
   "toc_cell": false,
   "toc_position": {},
   "toc_section_display": true,
   "toc_window_display": false
  }
 },
 "nbformat": 4,
 "nbformat_minor": 2
}
