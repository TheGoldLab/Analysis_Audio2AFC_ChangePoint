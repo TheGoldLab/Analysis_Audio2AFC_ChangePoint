{
 "cells": [
  {
   "cell_type": "code",
   "execution_count": 1,
   "metadata": {},
   "outputs": [],
   "source": [
    "from IPython.display import HTML\n",
    "import Python_modules.mmcomplexity as mmx"
   ]
  },
  {
   "cell_type": "code",
   "execution_count": 2,
   "metadata": {},
   "outputs": [],
   "source": [
    "import pprint"
   ]
  },
  {
   "cell_type": "code",
   "execution_count": 9,
   "metadata": {},
   "outputs": [
    {
     "data": {
      "text/html": [
       "\n",
       "    <script>\n",
       "    code_show=true; \n",
       "    function code_toggle() {\n",
       "     if (code_show){\n",
       "     $('div.input').hide();\n",
       "     } else {\n",
       "     $('div.input').show();\n",
       "     }\n",
       "     code_show = !code_show\n",
       "    } \n",
       "    $( document ).ready(code_toggle);\n",
       "    </script>\n",
       "    <a href=\"javascript:code_toggle()\">TOGGLE CODE ON/OFF</a>\n",
       "    "
      ],
      "text/plain": [
       "<IPython.core.display.HTML object>"
      ]
     },
     "execution_count": 9,
     "metadata": {},
     "output_type": "execute_result"
    }
   ],
   "source": [
    "HTML(\n",
    "    '''\n",
    "    <script>\n",
    "    code_show=true; \n",
    "    function code_toggle() {\n",
    "     if (code_show){\n",
    "     $('div.input').hide();\n",
    "     } else {\n",
    "     $('div.input').show();\n",
    "     }\n",
    "     code_show = !code_show\n",
    "    } \n",
    "    $( document ).ready(code_toggle);\n",
    "    </script>\n",
    "    <a href=\"javascript:code_toggle()\">TOGGLE CODE ON/OFF</a>\n",
    "    '''\n",
    ")"
   ]
  },
  {
   "cell_type": "markdown",
   "metadata": {},
   "source": [
    "# Basic examples of `mmcomplexity` module"
   ]
  },
  {
   "cell_type": "markdown",
   "metadata": {},
   "source": [
    "We generate a block of 10 trials with hazard rate 0.3:"
   ]
  },
  {
   "cell_type": "code",
   "execution_count": 3,
   "metadata": {},
   "outputs": [
    {
     "name": "stdout",
     "output_type": "stream",
     "text": [
      "object of type <class 'Python_modules.mmcomplexity.StimulusBlock'> \n",
      " sources: ['left', 'left', 'right', 'right', 'left', 'right', 'right', 'right', 'right', 'left'] \n",
      " sounds: ['left', 'right', 'right', 'left', 'left', 'left', 'right', 'right', 'left', 'right'] \n",
      "\n"
     ]
    }
   ],
   "source": [
    "num_trials = 10\n",
    "hazard_rate = 0.3\n",
    "stimulus = mmx.StimulusBlock(num_trials, hazard_rate)\n",
    "print(stimulus)"
   ]
  },
  {
   "cell_type": "markdown",
   "metadata": {},
   "source": [
    "Next, we create an ideal observer and run the estimation task on it:"
   ]
  },
  {
   "cell_type": "code",
   "execution_count": 4,
   "metadata": {},
   "outputs": [],
   "source": [
    "observer = mmx.BinaryDecisionMaker(stimulus)"
   ]
  },
  {
   "cell_type": "code",
   "execution_count": 5,
   "metadata": {},
   "outputs": [
    {
     "name": "stdout",
     "output_type": "stream",
     "text": [
      "observations: ['left', 'right', 'right', 'left', 'left', 'left', 'right', 'right', 'left', 'right']\n"
     ]
    }
   ],
   "source": [
    "observer.observe()\n",
    "print(f\"observations: {observer.observations}\")"
   ]
  },
  {
   "cell_type": "code",
   "execution_count": 6,
   "metadata": {},
   "outputs": [
    {
     "name": "stdout",
     "output_type": "stream",
     "text": [
      "(\"decisions: [(-1.3862943611198908, 'left'), (0.8967461358011848, 'right'), \"\n",
      " \"(1.7259717286900522, 'right'), (-0.8128456151311059, 'left'), \"\n",
      " \"(-1.6971177257575651, 'left'), (-1.953261946688581, 'left'), \"\n",
      " \"(0.7658449403770311, 'right'), (1.6805945156560747, 'right'), \"\n",
      " \"(-0.8230915029220094, 'left'), (1.0719026091343349, 'right')]\")\n"
     ]
    }
   ],
   "source": [
    "decisions = list(observer.process())\n",
    "pprint.pprint(f\"decisions: {decisions}\")"
   ]
  },
  {
   "cell_type": "markdown",
   "metadata": {},
   "source": [
    "Now, we generate a few blocks and display the stimulus info as a data frame"
   ]
  },
  {
   "cell_type": "code",
   "execution_count": 7,
   "metadata": {},
   "outputs": [],
   "source": [
    "tot_trials, h_values, meta_k, meta_prior_h = 50, [.01, .99], .1, [.7, .3]\n",
    "sim = mmx.Audio2AFCSimulation(tot_trials, h_values, meta_k, meta_prior_h)"
   ]
  },
  {
   "cell_type": "code",
   "execution_count": 8,
   "metadata": {},
   "outputs": [
    {
     "name": "stdout",
     "output_type": "stream",
     "text": [
      "   source  source_switch  sound  sound_switch  hazard  hazard_switch\n",
      "0   right          False  right         False    0.01          False\n",
      "1   right          False  right         False    0.01          False\n",
      "2   right          False  right         False    0.01          False\n",
      "3   right          False  right         False    0.01          False\n",
      "4   right          False   left          True    0.01          False\n",
      "5   right          False  right          True    0.01          False\n",
      "6   right          False  right         False    0.01          False\n",
      "7   right          False  right         False    0.01          False\n",
      "8   right          False  right         False    0.01          False\n",
      "9   right          False   left          True    0.01          False\n",
      "10   left           True   left         False    0.99           True\n",
      "11  right           True  right          True    0.99          False\n",
      "12   left           True   left          True    0.99          False\n",
      "13  right           True  right          True    0.99          False\n",
      "14   left           True   left          True    0.99          False\n",
      "15   left          False   left         False    0.01           True\n",
      "16  right           True  right          True    0.99           True\n",
      "17   left           True   left          True    0.99          False\n",
      "18  right           True  right          True    0.99          False\n",
      "19   left           True  right         False    0.99          False\n",
      "20  right           True  right         False    0.99          False\n",
      "21   left           True   left          True    0.99          False\n",
      "22  right           True  right          True    0.99          False\n",
      "23   left           True  right         False    0.99          False\n",
      "24  right           True   left          True    0.99          False\n",
      "25   left           True   left         False    0.99          False\n",
      "26  right           True   left         False    0.99          False\n",
      "27   left           True   left         False    0.99          False\n",
      "28  right           True  right          True    0.99          False\n",
      "29   left           True   left          True    0.99          False\n",
      "30  right           True  right          True    0.99          False\n",
      "31   left           True   left          True    0.99          False\n",
      "32  right           True  right          True    0.99          False\n",
      "33   left           True   left          True    0.99          False\n",
      "34  right           True  right          True    0.99          False\n",
      "35   left           True   left          True    0.99          False\n",
      "36  right           True  right          True    0.99          False\n",
      "37   left           True   left          True    0.99          False\n",
      "38  right           True  right          True    0.99          False\n",
      "39   left           True   left          True    0.99          False\n",
      "40  right           True  right          True    0.99          False\n",
      "41   left           True   left          True    0.99          False\n",
      "42  right           True  right          True    0.99          False\n",
      "43   left           True   left          True    0.99          False\n",
      "44  right           True  right          True    0.99          False\n",
      "45   left           True   left          True    0.99          False\n",
      "46  right           True  right          True    0.99          False\n",
      "47   left           True   left          True    0.99          False\n",
      "48  right           True   left         False    0.99          False\n",
      "49   left           True  right          True    0.99          False\n"
     ]
    }
   ],
   "source": [
    "pprint.pprint(sim.data)"
   ]
  },
  {
   "cell_type": "code",
   "execution_count": null,
   "metadata": {},
   "outputs": [],
   "source": []
  }
 ],
 "metadata": {
  "kernelspec": {
   "display_name": "Python 3.7 (mmcomplexity)",
   "language": "python",
   "name": "mmcomplexity"
  },
  "language_info": {
   "codemirror_mode": {
    "name": "ipython",
    "version": 3
   },
   "file_extension": ".py",
   "mimetype": "text/x-python",
   "name": "python",
   "nbconvert_exporter": "python",
   "pygments_lexer": "ipython3",
   "version": "3.7.3"
  },
  "toc": {
   "base_numbering": 1,
   "nav_menu": {},
   "number_sections": true,
   "sideBar": true,
   "skip_h1_title": false,
   "title_cell": "Table of Contents",
   "title_sidebar": "Contents",
   "toc_cell": false,
   "toc_position": {},
   "toc_section_display": true,
   "toc_window_display": false
  }
 },
 "nbformat": 4,
 "nbformat_minor": 2
}
