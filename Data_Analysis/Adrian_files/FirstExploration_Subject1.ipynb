{
 "cells": [
  {
   "cell_type": "markdown",
   "metadata": {
    "toc": true
   },
   "source": [
    "<h1>Table of Contents<span class=\"tocSkip\"></span></h1>\n",
    "<div class=\"toc\"><ul class=\"toc-item\"><li><span><a href=\"#Delete-invalid-rows\" data-toc-modified-id=\"Delete-invalid-rows-1\"><span class=\"toc-item-num\">1&nbsp;&nbsp;</span>Delete invalid rows</a></span></li><li><span><a href=\"#Look-at-sound-durations\" data-toc-modified-id=\"Look-at-sound-durations-2\"><span class=\"toc-item-num\">2&nbsp;&nbsp;</span>Look at sound durations</a></span></li></ul></div>"
   ]
  },
  {
   "cell_type": "code",
   "execution_count": 1,
   "metadata": {},
   "outputs": [],
   "source": [
    "import pandas as pd\n",
    "import matplotlib.pyplot as plt"
   ]
  },
  {
   "cell_type": "markdown",
   "metadata": {},
   "source": [
    "To load `csv` file, do the following:"
   ]
  },
  {
   "cell_type": "code",
   "execution_count": 4,
   "metadata": {},
   "outputs": [],
   "source": [
    "filename = '~/Audio2AFC_CP/raw/2019_06_25_11_40/pilot1rep_FIRA.csv'"
   ]
  },
  {
   "cell_type": "code",
   "execution_count": 5,
   "metadata": {},
   "outputs": [],
   "source": [
    "data = pd.read_csv(filename)"
   ]
  },
  {
   "cell_type": "code",
   "execution_count": 6,
   "metadata": {},
   "outputs": [
    {
     "data": {
      "text/html": [
       "<div>\n",
       "<style scoped>\n",
       "    .dataframe tbody tr th:only-of-type {\n",
       "        vertical-align: middle;\n",
       "    }\n",
       "\n",
       "    .dataframe tbody tr th {\n",
       "        vertical-align: top;\n",
       "    }\n",
       "\n",
       "    .dataframe thead th {\n",
       "        text-align: right;\n",
       "    }\n",
       "</style>\n",
       "<table border=\"1\" class=\"dataframe\">\n",
       "  <thead>\n",
       "    <tr style=\"text-align: right;\">\n",
       "      <th></th>\n",
       "      <th>taskID</th>\n",
       "      <th>trialIndex</th>\n",
       "      <th>trialStart</th>\n",
       "      <th>trialEnd</th>\n",
       "      <th>RT</th>\n",
       "      <th>choice</th>\n",
       "      <th>correct</th>\n",
       "      <th>direction</th>\n",
       "      <th>source</th>\n",
       "      <th>isCatch</th>\n",
       "      <th>...</th>\n",
       "      <th>sound2On</th>\n",
       "      <th>sound1Off</th>\n",
       "      <th>sound2Off</th>\n",
       "      <th>sourceOn</th>\n",
       "      <th>choiceTime</th>\n",
       "      <th>secondChoiceTime</th>\n",
       "      <th>targetOff</th>\n",
       "      <th>fixationOff</th>\n",
       "      <th>feedbackOn</th>\n",
       "      <th>dirReleaseChoiceTime</th>\n",
       "    </tr>\n",
       "  </thead>\n",
       "  <tbody>\n",
       "    <tr>\n",
       "      <th>0</th>\n",
       "      <td>1</td>\n",
       "      <td>1</td>\n",
       "      <td>1.196824e+06</td>\n",
       "      <td>1.196828e+06</td>\n",
       "      <td>1.151181</td>\n",
       "      <td>0.0</td>\n",
       "      <td>1.0</td>\n",
       "      <td>180</td>\n",
       "      <td>180</td>\n",
       "      <td>0</td>\n",
       "      <td>...</td>\n",
       "      <td>NaN</td>\n",
       "      <td>0.892065</td>\n",
       "      <td>NaN</td>\n",
       "      <td>NaN</td>\n",
       "      <td>2.043246</td>\n",
       "      <td>NaN</td>\n",
       "      <td>NaN</td>\n",
       "      <td>2.087844</td>\n",
       "      <td>NaN</td>\n",
       "      <td>NaN</td>\n",
       "    </tr>\n",
       "    <tr>\n",
       "      <th>1</th>\n",
       "      <td>1</td>\n",
       "      <td>2</td>\n",
       "      <td>1.196828e+06</td>\n",
       "      <td>1.196830e+06</td>\n",
       "      <td>0.290503</td>\n",
       "      <td>1.0</td>\n",
       "      <td>1.0</td>\n",
       "      <td>0</td>\n",
       "      <td>0</td>\n",
       "      <td>0</td>\n",
       "      <td>...</td>\n",
       "      <td>NaN</td>\n",
       "      <td>0.776399</td>\n",
       "      <td>NaN</td>\n",
       "      <td>NaN</td>\n",
       "      <td>1.066902</td>\n",
       "      <td>NaN</td>\n",
       "      <td>NaN</td>\n",
       "      <td>1.115797</td>\n",
       "      <td>NaN</td>\n",
       "      <td>NaN</td>\n",
       "    </tr>\n",
       "    <tr>\n",
       "      <th>2</th>\n",
       "      <td>1</td>\n",
       "      <td>3</td>\n",
       "      <td>1.196830e+06</td>\n",
       "      <td>1.196832e+06</td>\n",
       "      <td>0.372479</td>\n",
       "      <td>1.0</td>\n",
       "      <td>1.0</td>\n",
       "      <td>0</td>\n",
       "      <td>0</td>\n",
       "      <td>0</td>\n",
       "      <td>...</td>\n",
       "      <td>NaN</td>\n",
       "      <td>0.756944</td>\n",
       "      <td>NaN</td>\n",
       "      <td>NaN</td>\n",
       "      <td>1.129423</td>\n",
       "      <td>NaN</td>\n",
       "      <td>NaN</td>\n",
       "      <td>1.165758</td>\n",
       "      <td>NaN</td>\n",
       "      <td>NaN</td>\n",
       "    </tr>\n",
       "    <tr>\n",
       "      <th>3</th>\n",
       "      <td>1</td>\n",
       "      <td>4</td>\n",
       "      <td>1.196832e+06</td>\n",
       "      <td>1.196835e+06</td>\n",
       "      <td>0.150255</td>\n",
       "      <td>0.0</td>\n",
       "      <td>1.0</td>\n",
       "      <td>180</td>\n",
       "      <td>180</td>\n",
       "      <td>0</td>\n",
       "      <td>...</td>\n",
       "      <td>NaN</td>\n",
       "      <td>0.762844</td>\n",
       "      <td>NaN</td>\n",
       "      <td>NaN</td>\n",
       "      <td>0.913099</td>\n",
       "      <td>NaN</td>\n",
       "      <td>NaN</td>\n",
       "      <td>0.952108</td>\n",
       "      <td>NaN</td>\n",
       "      <td>NaN</td>\n",
       "    </tr>\n",
       "    <tr>\n",
       "      <th>4</th>\n",
       "      <td>1</td>\n",
       "      <td>5</td>\n",
       "      <td>1.196835e+06</td>\n",
       "      <td>1.196837e+06</td>\n",
       "      <td>0.212647</td>\n",
       "      <td>1.0</td>\n",
       "      <td>1.0</td>\n",
       "      <td>0</td>\n",
       "      <td>0</td>\n",
       "      <td>0</td>\n",
       "      <td>...</td>\n",
       "      <td>NaN</td>\n",
       "      <td>0.762082</td>\n",
       "      <td>NaN</td>\n",
       "      <td>NaN</td>\n",
       "      <td>0.974729</td>\n",
       "      <td>NaN</td>\n",
       "      <td>NaN</td>\n",
       "      <td>1.021977</td>\n",
       "      <td>NaN</td>\n",
       "      <td>NaN</td>\n",
       "    </tr>\n",
       "  </tbody>\n",
       "</table>\n",
       "<p>5 rows × 26 columns</p>\n",
       "</div>"
      ],
      "text/plain": [
       "   taskID  trialIndex    trialStart      trialEnd        RT  choice  correct  \\\n",
       "0       1           1  1.196824e+06  1.196828e+06  1.151181     0.0      1.0   \n",
       "1       1           2  1.196828e+06  1.196830e+06  0.290503     1.0      1.0   \n",
       "2       1           3  1.196830e+06  1.196832e+06  0.372479     1.0      1.0   \n",
       "3       1           4  1.196832e+06  1.196835e+06  0.150255     0.0      1.0   \n",
       "4       1           5  1.196835e+06  1.196837e+06  0.212647     1.0      1.0   \n",
       "\n",
       "   direction  source  isCatch  ...  sound2On  sound1Off  sound2Off  sourceOn  \\\n",
       "0        180     180        0  ...       NaN   0.892065        NaN       NaN   \n",
       "1          0       0        0  ...       NaN   0.776399        NaN       NaN   \n",
       "2          0       0        0  ...       NaN   0.756944        NaN       NaN   \n",
       "3        180     180        0  ...       NaN   0.762844        NaN       NaN   \n",
       "4          0       0        0  ...       NaN   0.762082        NaN       NaN   \n",
       "\n",
       "   choiceTime  secondChoiceTime  targetOff  fixationOff  feedbackOn  \\\n",
       "0    2.043246               NaN        NaN     2.087844         NaN   \n",
       "1    1.066902               NaN        NaN     1.115797         NaN   \n",
       "2    1.129423               NaN        NaN     1.165758         NaN   \n",
       "3    0.913099               NaN        NaN     0.952108         NaN   \n",
       "4    0.974729               NaN        NaN     1.021977         NaN   \n",
       "\n",
       "   dirReleaseChoiceTime  \n",
       "0                   NaN  \n",
       "1                   NaN  \n",
       "2                   NaN  \n",
       "3                   NaN  \n",
       "4                   NaN  \n",
       "\n",
       "[5 rows x 26 columns]"
      ]
     },
     "execution_count": 6,
     "metadata": {},
     "output_type": "execute_result"
    }
   ],
   "source": [
    "data.head()"
   ]
  },
  {
   "cell_type": "markdown",
   "metadata": {},
   "source": [
    "## Delete invalid rows"
   ]
  },
  {
   "cell_type": "markdown",
   "metadata": {},
   "source": [
    "Let's first remove unwanted columns"
   ]
  },
  {
   "cell_type": "code",
   "execution_count": 9,
   "metadata": {},
   "outputs": [
    {
     "data": {
      "text/plain": [
       "Index(['taskID', 'trialIndex', 'trialStart', 'trialEnd', 'RT', 'choice',\n",
       "       'correct', 'direction', 'source', 'isCatch', 'randSeedBase',\n",
       "       'unselectedTargetOff', 'fixationOn', 'fixationBlue', 'targetOn',\n",
       "       'sound1On', 'sound2On', 'sound1Off', 'sound2Off', 'sourceOn',\n",
       "       'choiceTime', 'secondChoiceTime', 'targetOff', 'fixationOff',\n",
       "       'feedbackOn', 'dirReleaseChoiceTime'],\n",
       "      dtype='object')"
      ]
     },
     "execution_count": 9,
     "metadata": {},
     "output_type": "execute_result"
    }
   ],
   "source": [
    "data.columns"
   ]
  },
  {
   "cell_type": "code",
   "execution_count": 10,
   "metadata": {},
   "outputs": [],
   "source": [
    "unwanted_col_names = [\n",
    "    'taskID',\n",
    "    'randSeedBase',\n",
    "    'fixationOn', \n",
    "    'fixationBlue', \n",
    "    'targetOn',\n",
    "    'sourceOn',\n",
    "    'feedbackOn'\n",
    "]"
   ]
  },
  {
   "cell_type": "code",
   "execution_count": 11,
   "metadata": {},
   "outputs": [],
   "source": [
    "valid_data = data.copy()"
   ]
  },
  {
   "cell_type": "code",
   "execution_count": 12,
   "metadata": {},
   "outputs": [
    {
     "data": {
      "text/plain": [
       "Index(['taskID', 'trialIndex', 'trialStart', 'trialEnd', 'RT', 'choice',\n",
       "       'correct', 'direction', 'source', 'isCatch', 'randSeedBase',\n",
       "       'unselectedTargetOff', 'fixationOn', 'fixationBlue', 'targetOn',\n",
       "       'sound1On', 'sound2On', 'sound1Off', 'sound2Off', 'sourceOn',\n",
       "       'choiceTime', 'secondChoiceTime', 'targetOff', 'fixationOff',\n",
       "       'feedbackOn', 'dirReleaseChoiceTime'],\n",
       "      dtype='object')"
      ]
     },
     "execution_count": 12,
     "metadata": {},
     "output_type": "execute_result"
    }
   ],
   "source": [
    "valid_data.drop(unwanted_col_names, axis=1)\n",
    "valid_data.columns"
   ]
  },
  {
   "cell_type": "code",
   "execution_count": null,
   "metadata": {},
   "outputs": [],
   "source": []
  },
  {
   "cell_type": "markdown",
   "metadata": {},
   "source": [
    "## Look at sound durations"
   ]
  },
  {
   "cell_type": "code",
   "execution_count": 7,
   "metadata": {},
   "outputs": [],
   "source": [
    "durations = data['sound1Off'] - data['sound1On']"
   ]
  },
  {
   "cell_type": "code",
   "execution_count": 8,
   "metadata": {},
   "outputs": [
    {
     "data": {
      "text/plain": [
       "[<matplotlib.lines.Line2D at 0x7f8aee25df98>]"
      ]
     },
     "execution_count": 8,
     "metadata": {},
     "output_type": "execute_result"
    },
    {
     "data": {
      "image/png": "[encoded data removed]",
      "text/plain": [
       "<Figure size 432x288 with 1 Axes>"
      ]
     },
     "metadata": {
      "needs_background": "light"
     },
     "output_type": "display_data"
    }
   ],
   "source": [
    "plt.plot(data['trialIndex'], durations)"
   ]
  },
  {
   "cell_type": "markdown",
   "metadata": {},
   "source": [
    "Compute performance"
   ]
  },
  {
   "cell_type": "code",
   "execution_count": null,
   "metadata": {},
   "outputs": [],
   "source": []
  }
 ],
 "metadata": {
  "kernelspec": {
   "display_name": "Python 3.7 (mmcomplexity)",
   "language": "python",
   "name": "mmcomplexity"
  },
  "language_info": {
   "codemirror_mode": {
    "name": "ipython",
    "version": 3
   },
   "file_extension": ".py",
   "mimetype": "text/x-python",
   "name": "python",
   "nbconvert_exporter": "python",
   "pygments_lexer": "ipython3",
   "version": "3.7.3"
  },
  "toc": {
   "base_numbering": 1,
   "nav_menu": {},
   "number_sections": true,
   "sideBar": true,
   "skip_h1_title": false,
   "title_cell": "Table of Contents",
   "title_sidebar": "Contents",
   "toc_cell": true,
   "toc_position": {},
   "toc_section_display": true,
   "toc_window_display": true
  }
 },
 "nbformat": 4,
 "nbformat_minor": 2
}
