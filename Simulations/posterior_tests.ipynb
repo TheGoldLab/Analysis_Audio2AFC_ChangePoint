{
 "cells": [
  {
   "cell_type": "markdown",
   "metadata": {
    "toc": true
   },
   "source": [
    "<h1>Table of Contents<span class=\"tocSkip\"></span></h1>\n",
    "<div class=\"toc\"><ul class=\"toc-item\"><li><span><a href=\"#Imports\" data-toc-modified-id=\"Imports-1\"><span class=\"toc-item-num\">1&nbsp;&nbsp;</span>Imports</a></span></li><li><span><a href=\"#Constants\" data-toc-modified-id=\"Constants-2\"><span class=\"toc-item-num\">2&nbsp;&nbsp;</span>Constants</a></span></li><li><span><a href=\"#Test-hazard-learning-normative-model\" data-toc-modified-id=\"Test-hazard-learning-normative-model-3\"><span class=\"toc-item-num\">3&nbsp;&nbsp;</span>Test hazard-learning normative model</a></span><ul class=\"toc-item\"><li><span><a href=\"#Stimulus-generation\" data-toc-modified-id=\"Stimulus-generation-3.1\"><span class=\"toc-item-num\">3.1&nbsp;&nbsp;</span>Stimulus generation</a></span></li><li><span><a href=\"#run-the-models\" data-toc-modified-id=\"run-the-models-3.2\"><span class=\"toc-item-num\">3.2&nbsp;&nbsp;</span>run the models</a></span></li></ul></li><li><span><a href=\"#Test-know-hazard-normative-model\" data-toc-modified-id=\"Test-know-hazard-normative-model-4\"><span class=\"toc-item-num\">4&nbsp;&nbsp;</span>Test know-hazard normative model</a></span><ul class=\"toc-item\"><li><span><a href=\"#Generate-stimulus\" data-toc-modified-id=\"Generate-stimulus-4.1\"><span class=\"toc-item-num\">4.1&nbsp;&nbsp;</span>Generate stimulus</a></span></li><li><span><a href=\"#Plot\" data-toc-modified-id=\"Plot-4.2\"><span class=\"toc-item-num\">4.2&nbsp;&nbsp;</span>Plot</a></span></li></ul></li></ul></div>"
   ]
  },
  {
   "cell_type": "markdown",
   "metadata": {},
   "source": [
    "# Imports"
   ]
  },
  {
   "cell_type": "code",
   "execution_count": 1,
   "metadata": {},
   "outputs": [],
   "source": [
    "import os, sys\n",
    "sys.path.append(os.path.expanduser('~/Git/GitHub/work/Analysis_Audio2AFC_ChangePoint/Python_modules'))\n",
    "import mmcomplexity as mmx\n",
    "import matplotlib.pyplot as plt\n",
    "%matplotlib inline"
   ]
  },
  {
   "cell_type": "code",
   "execution_count": 2,
   "metadata": {},
   "outputs": [],
   "source": [
    "import numpy as np"
   ]
  },
  {
   "cell_type": "code",
   "execution_count": 3,
   "metadata": {},
   "outputs": [],
   "source": [
    "import pandas as pd"
   ]
  },
  {
   "cell_type": "markdown",
   "metadata": {},
   "source": [
    "# Constants"
   ]
  },
  {
   "cell_type": "markdown",
   "metadata": {},
   "source": [
    "# Test hazard-learning normative model"
   ]
  },
  {
   "cell_type": "markdown",
   "metadata": {},
   "source": [
    "- For 7 hazard rate values between 0 and 1, equally spaced, generate 1 block of 500 trials. This yields a data frame with $500 \\times 7 = 3,500$ rows.\n",
    "- Compute the posterior over hazard rate every 50 trials, with three distinct priors, one biased towards low h, one towards high h, and one flat. This yields a dataframe in long format with columns trial_number, x_h, y_h, prior_type."
   ]
  },
  {
   "cell_type": "markdown",
   "metadata": {},
   "source": [
    "## Stimulus generation"
   ]
  },
  {
   "cell_type": "code",
   "execution_count": 4,
   "metadata": {},
   "outputs": [
    {
     "name": "stdout",
     "output_type": "stream",
     "text": [
      "[0.125 0.25  0.375 0.5   0.625 0.75  0.875]\n"
     ]
    }
   ],
   "source": [
    "num_trials = 500\n",
    "dh = 1/8\n",
    "h_vals = np.linspace(dh,1-dh, num=7) \n",
    "print(h_vals)"
   ]
  },
  {
   "cell_type": "code",
   "execution_count": 5,
   "metadata": {},
   "outputs": [
    {
     "name": "stdout",
     "output_type": "stream",
     "text": [
      "   trialIndex sourceLoc  source_switch soundLoc  sound_switch  hazard\n",
      "0           1      left          False    right         False   0.125\n",
      "1           2      left          False     left          True   0.125\n",
      "2           3      left          False     left         False   0.125\n",
      "3           4      left          False     left         False   0.125\n",
      "4           5      left          False     left         False   0.125\n"
     ]
    }
   ],
   "source": [
    "list_of_df = []\n",
    "for h in h_vals:\n",
    "    # generate data\n",
    "    sim_data = mmx.Audio2AFCSimulation(num_trials, [h], 0, [1], catch_rate=0)\n",
    "    df = sim_data.data\n",
    "    df.drop(columns=[\"isCatch\", \"hazard_switch\"], inplace=True)\n",
    "    df.insert(0,\"trialIndex\", df.index + 1)\n",
    "    list_of_df.append(df)\n",
    "stim_df = pd.concat(list_of_df)\n",
    "assert len(stim_df) == num_trials * len(h_vals)\n",
    "print(stim_df.head())"
   ]
  },
  {
   "cell_type": "code",
   "execution_count": 6,
   "metadata": {},
   "outputs": [],
   "source": [
    "stim_df.to_csv('stim_test_learn_h.csv', index=False)"
   ]
  },
  {
   "cell_type": "markdown",
   "metadata": {},
   "source": [
    "## run the models"
   ]
  },
  {
   "cell_type": "code",
   "execution_count": null,
   "metadata": {},
   "outputs": [],
   "source": []
  },
  {
   "cell_type": "markdown",
   "metadata": {},
   "source": [
    "# Test know-hazard normative model\n",
    "The goal of this section is to generate stimulus and posterior over the state for 50 trials for the discrimination and the prediction task, for 11 hazard rate values."
   ]
  },
  {
   "cell_type": "markdown",
   "metadata": {},
   "source": [
    "## Generate stimulus"
   ]
  },
  {
   "cell_type": "code",
   "execution_count": 7,
   "metadata": {},
   "outputs": [],
   "source": [
    "# num_trials = 50\n",
    "# h_vals = np.arange(0,11) / 10\n",
    "# print(h_vals)"
   ]
  },
  {
   "cell_type": "code",
   "execution_count": 8,
   "metadata": {},
   "outputs": [],
   "source": [
    "# list_of_df = []\n",
    "# for h in h_vals:\n",
    "#     # generate data\n",
    "#     sim_data = mmx.Audio2AFCSimulation(num_trials, [h], 0, [1], catch_rate=0)\n",
    "#     # sim_data.data.head()  # if you want to look at it\n",
    "\n",
    "#     # here we extract a StimulusBlock object to feed into the observer model\n",
    "#     sounds=list(sim_data.data['soundLoc'])\n",
    "#     sources=list(sim_data.data['sourceLoc'])\n",
    "#     stim_block = mmx.StimulusBlock(num_trials, h, sources=sources, sounds=sounds)\n",
    "#     # print(stim_block)\n",
    "\n",
    "#     # Now we create an observer model\n",
    "#     dm = mmx.KnownHazard(stim_block)\n",
    "#     dm.observe()  # we freeze the observations\n",
    "\n",
    "#     # we run the decision making algorithms for discrimination and prediction\n",
    "#     discrimination_decisions = list(dm.process())\n",
    "#     prediction_decisions = list(dm.process(filter_step=1))\n",
    "\n",
    "#     # turn log posterior odds into posterior over 'right' side\n",
    "#     try:\n",
    "#         discrimination_posterior = [mmx.log_odds_to_posterior(d[0])['right'] for d in discrimination_decisions]\n",
    "#         prediction_posterior = [mmx.log_odds_to_posterior(d[0])['right'] for d in prediction_decisions]\n",
    "#     except AssertionError:\n",
    "#         print('pb occurred at h-value ', h)\n",
    "#         raise\n",
    "\n",
    "#     # append posteriors to data frame\n",
    "#     sim_data.data['pred'] = prediction_posterior\n",
    "#     sim_data.data['discr'] = discrimination_posterior\n",
    "#     # sim_data.data.head()  # inspect if you wish\n",
    "#     list_of_df.append(sim_data.data)\n",
    "# final_df = pd.concat(list_of_df)"
   ]
  },
  {
   "cell_type": "code",
   "execution_count": 9,
   "metadata": {},
   "outputs": [],
   "source": [
    "# print(final_df)"
   ]
  },
  {
   "cell_type": "markdown",
   "metadata": {},
   "source": [
    "## Plot"
   ]
  },
  {
   "cell_type": "code",
   "execution_count": 10,
   "metadata": {},
   "outputs": [],
   "source": [
    "# plt.rcParams.update({'font.size': 22})\n",
    "# fig = plt.figure(figsize=(18, 10))\n",
    "# plt.plot(range(num_trials), sim_data.data['sourceLoc'])\n",
    "# plt.plot(range(num_trials), sim_data.data['soundLoc'], 'o', markersize=8)\n",
    "# plt.plot(range(num_trials), sim_data.data['pred'], linewidth=3, color='r')\n",
    "# plt.plot(range(num_trials), sim_data.data['discr'], linewidth=3, color='b')\n",
    "# plt.xlabel('trial number')\n",
    "# plt.legend()\n",
    "# plt.show"
   ]
  },
  {
   "cell_type": "code",
   "execution_count": 11,
   "metadata": {},
   "outputs": [],
   "source": [
    "# final_df.to_csv('data_to_test_models.csv')"
   ]
  }
 ],
 "metadata": {
  "kernelspec": {
   "display_name": "Python 3.7 (mmcomplexity)",
   "language": "python",
   "name": "mmcomplexity"
  },
  "language_info": {
   "codemirror_mode": {
    "name": "ipython",
    "version": 3
   },
   "file_extension": ".py",
   "mimetype": "text/x-python",
   "name": "python",
   "nbconvert_exporter": "python",
   "pygments_lexer": "ipython3",
   "version": "3.7.3"
  },
  "latex_envs": {
   "LaTeX_envs_menu_present": true,
   "autoclose": false,
   "autocomplete": true,
   "bibliofile": "biblio.bib",
   "cite_by": "apalike",
   "current_citInitial": 1,
   "eqLabelWithNumbers": true,
   "eqNumInitial": 1,
   "hotkeys": {
    "equation": "Ctrl-E",
    "itemize": "Ctrl-I"
   },
   "labels_anchors": false,
   "latex_user_defs": false,
   "report_style_numbering": false,
   "user_envs_cfg": false
  },
  "toc": {
   "base_numbering": 1,
   "nav_menu": {},
   "number_sections": true,
   "sideBar": true,
   "skip_h1_title": false,
   "title_cell": "Table of Contents",
   "title_sidebar": "Contents",
   "toc_cell": true,
   "toc_position": {},
   "toc_section_display": true,
   "toc_window_display": true
  }
 },
 "nbformat": 4,
 "nbformat_minor": 2
}
