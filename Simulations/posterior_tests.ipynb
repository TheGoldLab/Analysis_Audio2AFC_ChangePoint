{
 "cells": [
  {
   "cell_type": "markdown",
   "metadata": {
    "toc": true
   },
   "source": [
    "<h1>Table of Contents<span class=\"tocSkip\"></span></h1>\n",
    "<div class=\"toc\"><ul class=\"toc-item\"><li><span><a href=\"#Imports\" data-toc-modified-id=\"Imports-1\"><span class=\"toc-item-num\">1&nbsp;&nbsp;</span>Imports</a></span></li><li><span><a href=\"#Constants\" data-toc-modified-id=\"Constants-2\"><span class=\"toc-item-num\">2&nbsp;&nbsp;</span>Constants</a></span></li><li><span><a href=\"#Generate-stimulus\" data-toc-modified-id=\"Generate-stimulus-3\"><span class=\"toc-item-num\">3&nbsp;&nbsp;</span>Generate stimulus</a></span></li><li><span><a href=\"#Plot\" data-toc-modified-id=\"Plot-4\"><span class=\"toc-item-num\">4&nbsp;&nbsp;</span>Plot</a></span></li></ul></div>"
   ]
  },
  {
   "cell_type": "markdown",
   "metadata": {},
   "source": [
    "The goal of this notebook, generate stimulus and posterior over the state for 50 trials for the discrimination and the prediction task, for 11 hazard rate values."
   ]
  },
  {
   "cell_type": "markdown",
   "metadata": {},
   "source": [
    "### Imports"
   ]
  },
  {
   "cell_type": "code",
   "execution_count": 1,
   "metadata": {},
   "outputs": [],
   "source": [
    "import os, sys\n",
    "sys.path.append(os.path.expanduser('~/Git/GitHub/work/Analysis_Audio2AFC_ChangePoint/Python_modules'))\n",
    "import mmcomplexity as mmx\n",
    "import matplotlib.pyplot as plt\n",
    "%matplotlib inline"
   ]
  },
  {
   "cell_type": "code",
   "execution_count": 2,
   "metadata": {},
   "outputs": [],
   "source": [
    "import numpy as np"
   ]
  },
  {
   "cell_type": "code",
   "execution_count": 3,
   "metadata": {},
   "outputs": [],
   "source": [
    "import pandas as pd"
   ]
  },
  {
   "cell_type": "markdown",
   "metadata": {},
   "source": [
    "### Constants"
   ]
  },
  {
   "cell_type": "code",
   "execution_count": 4,
   "metadata": {},
   "outputs": [
    {
     "name": "stdout",
     "output_type": "stream",
     "text": [
      "[0.  0.1 0.2 0.3 0.4 0.5 0.6 0.7 0.8 0.9 1. ]\n"
     ]
    }
   ],
   "source": [
    "num_trials = 50\n",
    "h_vals = np.arange(0,11) / 10\n",
    "print(h_vals)"
   ]
  },
  {
   "cell_type": "markdown",
   "metadata": {},
   "source": [
    "### Generate stimulus"
   ]
  },
  {
   "cell_type": "code",
   "execution_count": 5,
   "metadata": {},
   "outputs": [
    {
     "name": "stdout",
     "output_type": "stream",
     "text": [
      "log odds inf too extreme, posterior set to delta\n",
      "log odds inf too extreme, posterior set to delta\n",
      "log odds inf too extreme, posterior set to delta\n",
      "log odds inf too extreme, posterior set to delta\n",
      "log odds inf too extreme, posterior set to delta\n",
      "log odds inf too extreme, posterior set to delta\n",
      "log odds inf too extreme, posterior set to delta\n",
      "log odds inf too extreme, posterior set to delta\n",
      "log odds inf too extreme, posterior set to delta\n"
     ]
    },
    {
     "name": "stderr",
     "output_type": "stream",
     "text": [
      "/home/adrian/Git/GitHub/work/Analysis_Audio2AFC_ChangePoint/Python_modules/mmcomplexity.py:229: RuntimeWarning: divide by zero encountered in double_scalars\n",
      "  log_odds = np.log(posterior['right'] / posterior['left'])\n"
     ]
    }
   ],
   "source": [
    "list_of_df = []\n",
    "for h in h_vals:\n",
    "    # generate data\n",
    "    sim_data = mmx.Audio2AFCSimulation(num_trials, [h], 0, [1], catch_rate=0)\n",
    "    # sim_data.data.head()  # if you want to look at it\n",
    "\n",
    "    # here we extract a StimulusBlock object to feed into the observer model\n",
    "    sounds=list(sim_data.data['soundLoc'])\n",
    "    sources=list(sim_data.data['sourceLoc'])\n",
    "    stim_block = mmx.StimulusBlock(num_trials, h, sources=sources, sounds=sounds)\n",
    "    # print(stim_block)\n",
    "\n",
    "    # Now we create an observer model\n",
    "    dm = mmx.KnownHazard(stim_block)\n",
    "    dm.observe()  # we freeze the observations\n",
    "\n",
    "    # we run the decision making algorithms for discrimination and prediction\n",
    "    discrimination_decisions = list(dm.process())\n",
    "    prediction_decisions = list(dm.process(filter_step=1))\n",
    "\n",
    "    # turn log posterior odds into posterior over 'right' side\n",
    "    try:\n",
    "        discrimination_posterior = [mmx.log_odds_to_posterior(d[0])['right'] for d in discrimination_decisions]\n",
    "        prediction_posterior = [mmx.log_odds_to_posterior(d[0])['right'] for d in prediction_decisions]\n",
    "    except AssertionError:\n",
    "        print('pb occurred at h-value ', h)\n",
    "        raise\n",
    "\n",
    "    # append posteriors to data frame\n",
    "    sim_data.data['pred'] = prediction_posterior\n",
    "    sim_data.data['discr'] = discrimination_posterior\n",
    "    # sim_data.data.head()  # inspect if you wish\n",
    "    list_of_df.append(sim_data.data)\n",
    "final_df = pd.concat(list_of_df)"
   ]
  },
  {
   "cell_type": "code",
   "execution_count": 6,
   "metadata": {},
   "outputs": [
    {
     "name": "stdout",
     "output_type": "stream",
     "text": [
      "   sourceLoc  source_switch soundLoc  sound_switch  hazard  hazard_switch  \\\n",
      "0      right          False    right         False     0.0          False   \n",
      "1      right          False    right         False     0.0          False   \n",
      "2      right          False    right         False     0.0          False   \n",
      "3      right          False    right         False     0.0          False   \n",
      "4      right          False    right         False     0.0          False   \n",
      "5      right          False     left          True     0.0          False   \n",
      "6      right          False    right          True     0.0          False   \n",
      "7      right          False    right         False     0.0          False   \n",
      "8      right          False    right         False     0.0          False   \n",
      "9      right          False    right         False     0.0          False   \n",
      "10     right          False     left          True     0.0          False   \n",
      "11     right          False    right          True     0.0          False   \n",
      "12     right          False    right         False     0.0          False   \n",
      "13     right          False    right         False     0.0          False   \n",
      "14     right          False     left          True     0.0          False   \n",
      "15     right          False    right          True     0.0          False   \n",
      "16     right          False    right         False     0.0          False   \n",
      "17     right          False    right         False     0.0          False   \n",
      "18     right          False    right         False     0.0          False   \n",
      "19     right          False    right         False     0.0          False   \n",
      "20     right          False    right         False     0.0          False   \n",
      "21     right          False    right         False     0.0          False   \n",
      "22     right          False    right         False     0.0          False   \n",
      "23     right          False    right         False     0.0          False   \n",
      "24     right          False    right         False     0.0          False   \n",
      "25     right          False    right         False     0.0          False   \n",
      "26     right          False     left          True     0.0          False   \n",
      "27     right          False    right          True     0.0          False   \n",
      "28     right          False    right         False     0.0          False   \n",
      "29     right          False    right         False     0.0          False   \n",
      "..       ...            ...      ...           ...     ...            ...   \n",
      "20      left           True     left          True     1.0          False   \n",
      "21     right           True    right          True     1.0          False   \n",
      "22      left           True     left          True     1.0          False   \n",
      "23     right           True    right          True     1.0          False   \n",
      "24      left           True    right         False     1.0          False   \n",
      "25     right           True    right         False     1.0          False   \n",
      "26      left           True     left          True     1.0          False   \n",
      "27     right           True    right          True     1.0          False   \n",
      "28      left           True    right         False     1.0          False   \n",
      "29     right           True     left          True     1.0          False   \n",
      "30      left           True     left         False     1.0          False   \n",
      "31     right           True    right          True     1.0          False   \n",
      "32      left           True    right         False     1.0          False   \n",
      "33     right           True     left          True     1.0          False   \n",
      "34      left           True     left         False     1.0          False   \n",
      "35     right           True    right          True     1.0          False   \n",
      "36      left           True     left          True     1.0          False   \n",
      "37     right           True    right          True     1.0          False   \n",
      "38      left           True    right         False     1.0          False   \n",
      "39     right           True     left          True     1.0          False   \n",
      "40      left           True     left         False     1.0          False   \n",
      "41     right           True    right          True     1.0          False   \n",
      "42      left           True    right         False     1.0          False   \n",
      "43     right           True    right         False     1.0          False   \n",
      "44      left           True     left          True     1.0          False   \n",
      "45     right           True    right          True     1.0          False   \n",
      "46      left           True     left          True     1.0          False   \n",
      "47     right           True    right          True     1.0          False   \n",
      "48      left           True    right         False     1.0          False   \n",
      "49     right           True    right         False     1.0          False   \n",
      "\n",
      "    isCatch          pred         discr  \n",
      "0         0  5.000000e-01  8.000000e-01  \n",
      "1         0  8.000000e-01  9.411765e-01  \n",
      "2         0  9.411765e-01  9.846154e-01  \n",
      "3         0  9.846154e-01  9.961089e-01  \n",
      "4         0  9.961089e-01  9.990244e-01  \n",
      "5         0  9.990244e-01  9.961089e-01  \n",
      "6         0  9.961089e-01  9.990244e-01  \n",
      "7         0  9.990244e-01  9.997559e-01  \n",
      "8         0  9.997559e-01  9.999390e-01  \n",
      "9         0  9.999390e-01  9.999847e-01  \n",
      "10        0  9.999847e-01  9.999390e-01  \n",
      "11        0  9.999390e-01  9.999847e-01  \n",
      "12        0  9.999847e-01  9.999962e-01  \n",
      "13        0  9.999962e-01  9.999990e-01  \n",
      "14        0  9.999990e-01  9.999962e-01  \n",
      "15        0  9.999962e-01  9.999990e-01  \n",
      "16        0  9.999990e-01  9.999998e-01  \n",
      "17        0  9.999998e-01  9.999999e-01  \n",
      "18        0  9.999999e-01  1.000000e+00  \n",
      "19        0  1.000000e+00  1.000000e+00  \n",
      "20        0  1.000000e+00  1.000000e+00  \n",
      "21        0  1.000000e+00  1.000000e+00  \n",
      "22        0  1.000000e+00  1.000000e+00  \n",
      "23        0  1.000000e+00  1.000000e+00  \n",
      "24        0  1.000000e+00  1.000000e+00  \n",
      "25        0  1.000000e+00  1.000000e+00  \n",
      "26        0  1.000000e+00  1.000000e+00  \n",
      "27        0  1.000000e+00  1.000000e+00  \n",
      "28        0  1.000000e+00  1.000000e+00  \n",
      "29        0  1.000000e+00  1.000000e+00  \n",
      "..      ...           ...           ...  \n",
      "20        0  5.960464e-08  1.490116e-08  \n",
      "21        0  1.000000e+00  1.000000e+00  \n",
      "22        0  3.725290e-09  9.313226e-10  \n",
      "23        0  1.000000e+00  1.000000e+00  \n",
      "24        0  2.328306e-10  9.313226e-10  \n",
      "25        0  1.000000e+00  1.000000e+00  \n",
      "26        0  2.328306e-10  5.820766e-11  \n",
      "27        0  1.000000e+00  1.000000e+00  \n",
      "28        0  1.455192e-11  5.820766e-11  \n",
      "29        0  1.000000e+00  1.000000e+00  \n",
      "30        0  2.328306e-10  5.820766e-11  \n",
      "31        0  1.000000e+00  1.000000e+00  \n",
      "32        0  1.455192e-11  5.820766e-11  \n",
      "33        0  1.000000e+00  1.000000e+00  \n",
      "34        0  2.328306e-10  5.820766e-11  \n",
      "35        0  1.000000e+00  1.000000e+00  \n",
      "36        0  1.455192e-11  3.637979e-12  \n",
      "37        0  1.000000e+00  1.000000e+00  \n",
      "38        0  9.094947e-13  3.637979e-12  \n",
      "39        0  1.000000e+00  1.000000e+00  \n",
      "40        0  1.455192e-11  3.637979e-12  \n",
      "41        0  1.000000e+00  1.000000e+00  \n",
      "42        0  9.094947e-13  3.637979e-12  \n",
      "43        0  1.000000e+00  1.000000e+00  \n",
      "44        0  9.094947e-13  2.273737e-13  \n",
      "45        0  1.000000e+00  1.000000e+00  \n",
      "46        0  5.684342e-14  1.421085e-14  \n",
      "47        0  1.000000e+00  1.000000e+00  \n",
      "48        0  3.552714e-15  1.421085e-14  \n",
      "49        0  1.000000e+00  1.000000e+00  \n",
      "\n",
      "[550 rows x 9 columns]\n"
     ]
    }
   ],
   "source": [
    "print(final_df)"
   ]
  },
  {
   "cell_type": "markdown",
   "metadata": {},
   "source": [
    "### Plot"
   ]
  },
  {
   "cell_type": "code",
   "execution_count": 7,
   "metadata": {},
   "outputs": [],
   "source": [
    "# plt.rcParams.update({'font.size': 22})\n",
    "# fig = plt.figure(figsize=(18, 10))\n",
    "# plt.plot(range(num_trials), sim_data.data['sourceLoc'])\n",
    "# plt.plot(range(num_trials), sim_data.data['soundLoc'], 'o', markersize=8)\n",
    "# plt.plot(range(num_trials), sim_data.data['pred'], linewidth=3, color='r')\n",
    "# plt.plot(range(num_trials), sim_data.data['discr'], linewidth=3, color='b')\n",
    "# plt.xlabel('trial number')\n",
    "# plt.legend()\n",
    "# plt.show"
   ]
  },
  {
   "cell_type": "code",
   "execution_count": 8,
   "metadata": {},
   "outputs": [],
   "source": [
    "final_df.to_csv('data_to_test_models.csv')"
   ]
  }
 ],
 "metadata": {
  "kernelspec": {
   "display_name": "Python 3.7 (mmcomplexity)",
   "language": "python",
   "name": "mmcomplexity"
  },
  "language_info": {
   "codemirror_mode": {
    "name": "ipython",
    "version": 3
   },
   "file_extension": ".py",
   "mimetype": "text/x-python",
   "name": "python",
   "nbconvert_exporter": "python",
   "pygments_lexer": "ipython3",
   "version": "3.7.3"
  },
  "toc": {
   "base_numbering": 1,
   "nav_menu": {},
   "number_sections": true,
   "sideBar": true,
   "skip_h1_title": false,
   "title_cell": "Table of Contents",
   "title_sidebar": "Contents",
   "toc_cell": true,
   "toc_position": {},
   "toc_section_display": true,
   "toc_window_display": true
  }
 },
 "nbformat": 4,
 "nbformat_minor": 2
}
