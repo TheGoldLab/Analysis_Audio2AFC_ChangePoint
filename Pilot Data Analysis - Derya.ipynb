{
 "cells": [
  {
   "cell_type": "markdown",
   "metadata": {},
   "source": [
    "# Pilot Data Analysis\n",
    "Author: Derya Yavuz\n"
   ]
  },
  {
   "cell_type": "markdown",
   "metadata": {},
   "source": [
    "We will analyze our preliminary experiment data we have received from our pilot runs with volunteers at the Gold Lab. "
   ]
  },
  {
   "cell_type": "markdown",
   "metadata": {},
   "source": [
    "# List of Questions "
   ]
  },
  {
   "cell_type": "markdown",
   "metadata": {},
   "source": [
    "## 1 - Does model complexity differ in report vs. prediction tasks?\n",
    "Model complexity corresponds to individual differences in making decisions in a changing environment with different hazard rates."
   ]
  },
  {
   "cell_type": "markdown",
   "metadata": {},
   "source": [
    "## 2 - Does hazard rate have an effect on performance as a function of the number of trials since last switch?\n",
    "For each trial, we look at the previous source and compare it with the current source to see if there had been a switch or not. "
   ]
  },
  {
   "cell_type": "markdown",
   "metadata": {},
   "source": [
    "## 3 - Does the width of the meta-prior change between prediction and report tasks?"
   ]
  },
  {
   "cell_type": "markdown",
   "metadata": {},
   "source": [
    "## 4 - How will reaction times be affected by the change point trials in the report task?"
   ]
  },
  {
   "cell_type": "markdown",
   "metadata": {},
   "source": [
    "## 5 - How will reaction times be affected by trials that are against the hazard rate condition in the prediction task?\n",
    "For example: switch trials in the low hazard rate condition, and non-switch trials in the high hazard rate condition."
   ]
  },
  {
   "cell_type": "markdown",
   "metadata": {},
   "source": [
    "## Plots for Questions"
   ]
  },
  {
   "cell_type": "markdown",
   "metadata": {},
   "source": [
    "## Question 1"
   ]
  },
  {
   "cell_type": "code",
   "execution_count": 2,
   "metadata": {},
   "outputs": [],
   "source": [
    "import pandas as pd\n",
    "import matplotlib.pyplot as plt\n",
    "import os, sys\n",
    "import numpy as np\n",
    "sys.path.append('./Empirical_Information_Bottleneck/predinfo')\n",
    "from predinfo import predinfo as pi"
   ]
  },
  {
   "cell_type": "code",
   "execution_count": 3,
   "metadata": {},
   "outputs": [
    {
     "data": {
      "text/html": [
       "<div>\n",
       "<style scoped>\n",
       "    .dataframe tbody tr th:only-of-type {\n",
       "        vertical-align: middle;\n",
       "    }\n",
       "\n",
       "    .dataframe tbody tr th {\n",
       "        vertical-align: top;\n",
       "    }\n",
       "\n",
       "    .dataframe thead th {\n",
       "        text-align: right;\n",
       "    }\n",
       "</style>\n",
       "<table border=\"1\" class=\"dataframe\">\n",
       "  <thead>\n",
       "    <tr style=\"text-align: right;\">\n",
       "      <th></th>\n",
       "      <th>timestamp</th>\n",
       "      <th>subject</th>\n",
       "      <th>block</th>\n",
       "    </tr>\n",
       "  </thead>\n",
       "  <tbody>\n",
       "    <tr>\n",
       "      <th>0</th>\n",
       "      <td>2019_06_25_11_11</td>\n",
       "      <td>1</td>\n",
       "      <td>pred</td>\n",
       "    </tr>\n",
       "    <tr>\n",
       "      <th>1</th>\n",
       "      <td>2019_06_25_11_40</td>\n",
       "      <td>1</td>\n",
       "      <td>rep</td>\n",
       "    </tr>\n",
       "    <tr>\n",
       "      <th>2</th>\n",
       "      <td>2019_06_25_12_09</td>\n",
       "      <td>2</td>\n",
       "      <td>pred</td>\n",
       "    </tr>\n",
       "    <tr>\n",
       "      <th>3</th>\n",
       "      <td>2019_06_25_12_31</td>\n",
       "      <td>2</td>\n",
       "      <td>rep</td>\n",
       "    </tr>\n",
       "    <tr>\n",
       "      <th>4</th>\n",
       "      <td>2019_06_27_13_44</td>\n",
       "      <td>3</td>\n",
       "      <td>pred</td>\n",
       "    </tr>\n",
       "  </tbody>\n",
       "</table>\n",
       "</div>"
      ],
      "text/plain": [
       "          timestamp  subject block\n",
       "0  2019_06_25_11_11        1  pred\n",
       "1  2019_06_25_11_40        1   rep\n",
       "2  2019_06_25_12_09        2  pred\n",
       "3  2019_06_25_12_31        2   rep\n",
       "4  2019_06_27_13_44        3  pred"
      ]
     },
     "execution_count": 3,
     "metadata": {},
     "output_type": "execute_result"
    }
   ],
   "source": [
    "data_map = os.path.expanduser(\n",
    "        '~/Documents/GitHub/Analysis_Audio2AFC_ChangePoint/data_mapping.csv'\n",
    "    )\n",
    "\n",
    "read_data_map = pd.read_csv(data_map)\n",
    "read_data_map.head()"
   ]
  },
  {
   "cell_type": "code",
   "execution_count": 21,
   "metadata": {},
   "outputs": [
    {
     "name": "stdout",
     "output_type": "stream",
     "text": [
      "0.005203623309333865\n",
      "0.8977714940385852\n"
     ]
    }
   ],
   "source": [
    "# First graph : mutual information on the set of trials that is used on every subject.\n",
    "\n",
    "\n",
    "# Add the hazard rate column. \n",
    "# Load the sim_data.csv file.\n",
    "simulation = os.path.expanduser(\n",
    "        '~/Documents/GitHub/Analysis_Audio2AFC_ChangePoint/sim_data.csv'\n",
    "    )\n",
    "\n",
    "simulation_data = pd.read_csv(simulation)\n",
    "\n",
    "#Graph 1 calculations\n",
    "#Vectors\n",
    " \n",
    "tones = simulation_data['sound'].copy()\n",
    "hazards = simulation_data['hazard'].copy()\n",
    "\n",
    "#For the report task.\n",
    "tones[tones == 'left'] = 0\n",
    "tones[tones == 'right'] = 1\n",
    "#Mutual information in bits.\n",
    "tone_ipast,tone_ifuture = pi(tones,tones,1,1,2,2)\n",
    "print(tone_ipast)\n",
    "\n",
    "#For predict task.\n",
    "features = np.empty(len(tones))\n",
    "features[(tones == 0) & (hazards == .1)] = 0\n",
    "features[(tones == 1) & (hazards == .1)] = 1\n",
    "features[(tones == 1) & (hazards == .9)] = 3\n",
    "features[(tones == 0) & (hazards == .9)] = 2\n",
    "\n",
    "#print(features)\n",
    "\n",
    "tone_ipast_feature,tone_ifuture_feature = pi(features,features,1,1,4,4)\n",
    "print(tone_ipast_feature)\n"
   ]
  },
  {
   "cell_type": "code",
   "execution_count": 46,
   "metadata": {},
   "outputs": [],
   "source": [
    "#Function to create vectors for the individual mutual information plot per subject in the report task.\n",
    "\n",
    "def create_vectors_rep(rep_data):\n",
    "    #Create responses vector, excluding the NaN values.\n",
    "    responses_rep = rep_data['choice'].copy()\n",
    "    responses_correct_rep = rep_data['correct'].copy()\n",
    "    responses_nan_rep = np.isnan(responses_correct_rep)\n",
    "    responses_rep = responses_rep[responses_nan_rep == False]\n",
    "\n",
    "    #Create tones vector for the report task, converting all values to either 1 or 0.\n",
    "    tones_raw_rep = rep_data['direction'].copy()\n",
    "    tones_raw_rep = tones_raw_rep[responses_nan_rep == False]\n",
    "    tones_raw_rep[tones_raw_rep == 180] = 1\n",
    "    \n",
    "    #Create a hazards vector to incorporate the hazard rate into the features.\n",
    "    hazards_raw_rep = rep_data['hazard'].copy()\n",
    "    hazards_raw_rep = hazards_raw_rep[responses_nan_rep == False]\n",
    "    \n",
    "    return tones_raw_rep, hazards_raw_rep, responses_rep"
   ]
  },
  {
   "cell_type": "code",
   "execution_count": 6,
   "metadata": {},
   "outputs": [],
   "source": [
    "#Function to create vectors for the individual mutual information plot per subject in the prediction task.\n",
    "\n",
    "def create_vectors_pred(pred_data):\n",
    "    responses_pred = pred_data['choice'].copy()\n",
    "    responses_correct_pred = pred_data['correct'].copy()\n",
    "    responses_nan_pred = np.isnan(responses_correct_pred)\n",
    "    responses_pred = responses_pred[responses_nan_pred == False]\n",
    "\n",
    "    #Create tones vector for the prediction task, converting all values to either 1 or 0.\n",
    "    tones_raw_pred = pred_data['direction'].copy()\n",
    "    tones_raw_pred = tones_raw_pred[responses_nan_pred == False]\n",
    "    tones_raw_pred[tones_raw_pred == 180] = 1\n",
    "\n",
    "    #Create a hazards vector to incorporate the hazard rate into the features.\n",
    "    hazards_raw_pred = pred_data['hazard'].copy()\n",
    "    hazards_raw_pred = hazards_raw_pred[responses_nan_pred == False]\n",
    "    \n",
    "    return tones_raw_pred, hazards_raw_pred, responses_pred\n"
   ]
  },
  {
   "cell_type": "code",
   "execution_count": 41,
   "metadata": {},
   "outputs": [],
   "source": [
    "def process_rep(rep_data):\n",
    "    tones_raw_rep, hazards_raw_rep, responses_rep = create_vectors_rep(rep_data)\n",
    "    features_rep = feature_func(tones_raw_rep, hazards_raw_rep)\n",
    "    \n",
    "    \n",
    "    #Shifting rows to provide an offset for the function.\n",
    "    responses_rep_shift = responses_rep[1:]\n",
    "    feature_rep_shift = features_rep[0:(len(features_rep)-1)]\n",
    "\n",
    "    sub1_ipast_rep, sub1_ifuture_rep = pi(responses_rep_shift, feature_rep_shift, 1, 1, 2, 4)\n",
    "    return sub1_ipast_rep"
   ]
  },
  {
   "cell_type": "code",
   "execution_count": 42,
   "metadata": {},
   "outputs": [],
   "source": [
    "def process_pred(pred_data):\n",
    "    tones_raw_pred, hazards_raw_pred, responses_pred = create_vectors_pred(pred_data)\n",
    "    features_pred = feature_func(tones_raw_pred, hazards_raw_pred)\n",
    "\n",
    "    #Shifting rows to provide an offset for the function.\n",
    "    responses_pred_shift = responses_pred[1:]\n",
    "    feature_pred_shift = features_pred[0:(len(features_pred)-1)]\n",
    "\n",
    "    #Apply the mutual information function to the features, print out the mutual information in the report task per subject.\n",
    "    sub1_ipast_pred, sub1_ifuture_pred = pi(responses_pred_shift, feature_pred_shift, 1, 1, 2, 4)\n",
    "    return sub1_ipast_pred\n",
    "\n"
   ]
  },
  {
   "cell_type": "code",
   "execution_count": 10,
   "metadata": {},
   "outputs": [],
   "source": [
    "def get_timestamp(dataframe, subject, task_type):\n",
    "    timestamp = dataframe[(dataframe['subject']==subject) & (dataframe['block']==task_type)]\n",
    "    return timestamp.iloc[0,0]"
   ]
  },
  {
   "cell_type": "code",
   "execution_count": 47,
   "metadata": {},
   "outputs": [
    {
     "name": "stdout",
     "output_type": "stream",
     "text": [
      "0.034857067716777046\n",
      "0.0012953077709271653\n",
      "0.03665941926130263\n",
      "0.3300807097143858\n",
      "0.04050922383208016\n",
      "0.1671460715631315\n",
      "0.044655549224807654\n",
      "0.14391808495198244\n"
     ]
    }
   ],
   "source": [
    "#Load in the data\n",
    "#Subject 1 rep and pred. These are raw data files since we need the actual number of trials. Processed ones are missing\n",
    "#a couple of trials which complicate the analysis.\n",
    "\n",
    "#Create an array for both rep and pred mutual information numbers to be stored.\n",
    "ipast_rep = []\n",
    "ipast_pred = []\n",
    "\n",
    "\n",
    "num_subjects = 4\n",
    "\n",
    "for subject in range(num_subjects):\n",
    "    \n",
    "    #Loading and reading the .csv files.\n",
    "    rep = os.path.expanduser(\n",
    "        '~/Documents/MATLAB/Audio2AFC_CP/raw/' +\n",
    "        get_timestamp(read_data_map, subject+1, 'rep') + '/pilot' +\n",
    "        str(subject+1) + 'rep_FIRA.csv'\n",
    "    )\n",
    "    \n",
    "    \n",
    "    \n",
    "    #os.path.expanduser('~/Documents/MATLAB/Audio2AFC_CP/raw/2019_06_25_11_40/pilot1rep_FIRA.csv')\n",
    "    pred = os.path.expanduser(\n",
    "        '~/Documents/MATLAB/Audio2AFC_CP/raw/' + get_timestamp(read_data_map, subject+1, 'pred') + '/pilot' +\n",
    "        str(subject+1) + 'pred_FIRA.csv'\n",
    "    )\n",
    "    \n",
    "\n",
    "   \n",
    "    #os.path.expanduser('~/Documents/MATLAB/Audio2AFC_CP/raw/2019_06_25_11_11/pilot1pred_FIRA.csv')\n",
    "    rep_data = pd.read_csv(rep)\n",
    "    pred_data = pd.read_csv(pred)\n",
    "\n",
    "    #Cleaning up: dropping the unwanted columns for a cleaner dataframe.\n",
    "    rep_data = rep_data.drop([\"trialStart\", \"trialEnd\", \"RT\", \"isCatch\", \"unselectedTargetOff\", \"sound1On\", \"sound2On\", \n",
    "                               \"sound1Off\", \"sound2Off\", \"choiceTime\", \"secondChoiceTime\", \"targetOff\", \"fixationOff\", \"dirReleaseChoiceTime\"], axis=1)\n",
    "\n",
    "    pred_data = pred_data.drop([\"trialStart\", \"trialEnd\", \"RT\", \"isCatch\", \"unselectedTargetOff\", \"sound1On\", \"sound2On\", \n",
    "                               \"sound1Off\", \"sound2Off\", \"choiceTime\", \"secondChoiceTime\", \"targetOff\", \"fixationOff\", \"dirReleaseChoiceTime\"], axis=1)\n",
    "\n",
    "    #Append hazard rate column. \n",
    "    rep_data = rep_data.merge(simulation_data['hazard'], left_index=True, right_index=True)\n",
    "    pred_data = pred_data.merge(simulation_data['hazard'], left_index=True, right_index=True)\n",
    "    \n",
    "    #Process each data frame individually, then append them. \n",
    "    subj_past_rep = process_rep(rep_data)\n",
    "    ipast_rep.append(subj_past_rep)\n",
    "    subj_past_pred = process_pred(pred_data)\n",
    "    ipast_pred.append(subj_past_pred)\n",
    "    \n",
    "    print(subj_past_rep)\n",
    "    print(subj_past_pred)\n",
    "\n"
   ]
  },
  {
   "cell_type": "code",
   "execution_count": 12,
   "metadata": {},
   "outputs": [],
   "source": [
    "def feature_func(tones, hazards):\n",
    "    features = np.empty(len(tones))\n",
    "    features[(tones == 0) & (hazards == .1)] = 0\n",
    "    features[(tones == 1) & (hazards == .1)] = 1\n",
    "    features[(tones == 1) & (hazards == .9)] = 3\n",
    "    features[(tones == 0) & (hazards == .9)] = 2\n",
    "    return features"
   ]
  },
  {
   "cell_type": "code",
   "execution_count": 58,
   "metadata": {},
   "outputs": [
    {
     "data": {
      "text/plain": [
       "Text(0, 0.5, 'Complexity (bits)')"
      ]
     },
     "execution_count": 58,
     "metadata": {},
     "output_type": "execute_result"
    },
    {
     "data": {
      "image/png": "[encoded data removed]",
      "text/plain": [
       "<Figure size 720x648 with 1 Axes>"
      ]
     },
     "metadata": {
      "needs_background": "light"
     },
     "output_type": "display_data"
    }
   ],
   "source": [
    "#Plotting the graphs containing mutual information.\n",
    "%matplotlib inline\n",
    "plt.rcParams[\"figure.figsize\"] = (10, 9) # (w, h) # figure size \n",
    "plt.rcParams.update({'font.size': 18})\n",
    "names = ('Report\\n$I(t_{past}:t_{future})$','Prediction\\n$I(f_{past}:f_{future})$')\n",
    "plt.bar([0,1],[tone_ipast,tone_ipast_feature],align='center',color=['b','g'])\n",
    "plt.xticks([0,1],names)\n",
    "plt.title(\"Task Mutual Information\", fontname=\"Arial\")\n",
    "plt.xlabel('Task', fontname=\"Arial\")\n",
    "plt.ylabel('Complexity (bits)', fontname=\"Arial\")\n"
   ]
  },
  {
   "cell_type": "code",
   "execution_count": 56,
   "metadata": {},
   "outputs": [
    {
     "data": {
      "text/plain": [
       "Text(0, 0.5, 'Complexity (bits)')"
      ]
     },
     "execution_count": 56,
     "metadata": {},
     "output_type": "execute_result"
    },
    {
     "data": {
      "image/png": "[encoded data removed]",
      "text/plain": [
       "<Figure size 720x648 with 1 Axes>"
      ]
     },
     "metadata": {
      "needs_background": "light"
     },
     "output_type": "display_data"
    }
   ],
   "source": [
    "#Plotting the graphs containing mutual information.\n",
    "#Second graph: per subject.\n",
    "#vector_bit = np.arange(0,1)\n",
    "\n",
    "%matplotlib inline\n",
    "plt.rcParams[\"figure.figsize\"] = (10, 9) # (w, h) # figure size \n",
    "plt.rcParams.update({'font.size': 18})\n",
    "names = ('Report\\n$I(f_{past}:r_{now})$','Prediction\\n$I(f_{past}:r_{now})$')\n",
    "plt.bar([0,1],[np.mean(ipast_rep), np.mean(ipast_pred)],align='center',color=['b','g'],alpha=.5)\n",
    "\n",
    "#Draw the lines between the points associating each subject's report and prediction complexity, individually.\n",
    "for i in np.arange(len(ipast_rep)):\n",
    "    plt.plot([0,1],[ipast_rep[i],ipast_pred[i]],'k-')\n",
    "    \n",
    "plt.plot([0,0,0,0],ipast_rep,color='b',marker='o')\n",
    "plt.plot([1,1,1,1],ipast_pred,color='g',marker='o',linewidth=0)\n",
    "plt.xticks([0,1],names)\n",
    "plt.title(\"Subject Mutual Information\", fontname=\"Arial\")\n",
    "plt.xlabel('Task', fontname=\"Arial\")\n",
    "plt.ylabel('Complexity (bits)', fontname=\"Arial\")"
   ]
  },
  {
   "cell_type": "markdown",
   "metadata": {},
   "source": [
    "## Question 2"
   ]
  },
  {
   "cell_type": "markdown",
   "metadata": {},
   "source": [
    "This will load the .csv file containing the processed data."
   ]
  },
  {
   "cell_type": "code",
   "execution_count": null,
   "metadata": {},
   "outputs": [],
   "source": [
    "# # Automate timestamps. \n",
    "# # Loading the data mapping timestamps which associates subjects to their respective trials.\n",
    "# data_map = os.path.expanduser(\n",
    "#         '~/Documents/GitHub/Analysis_Audio2AFC_ChangePoint/data_mapping.csv'\n",
    "#     )\n",
    "\n",
    "# read_data_map = pd.read_csv(data_map)\n",
    "# read_data_map.head()"
   ]
  },
  {
   "cell_type": "code",
   "execution_count": null,
   "metadata": {},
   "outputs": [],
   "source": [
    "# def produce_df(file_name):\n",
    "#     data = pd.read_csv(file_name)\n",
    "#     data = data.drop([\"trialStart\", \"trialEnd\", \"RT\", \"direction\", \"isCatch\", \"unselectedTargetOff\", \"sound1On\", \"sound2On\", \n",
    "#                            \"sound1Off\", \"sound2Off\", \"choiceTime\", \"secondChoiceTime\", \"targetOff\", \"fixationOff\", \"dirReleaseChoiceTime\"], axis=1)\n",
    "\n",
    "\n",
    "#     # Adding a column to indicate source switches.\n",
    "#     switchCol = [1] * data.count()\n",
    "#     data['sourceSwitch'] = switchCol\n",
    "\n",
    "#     # Adding another column to indicate the number of trials that has passed since the last source switch occurred.\n",
    "#     positionCol = [1] * data.count()\n",
    "#     data['posSinceCP'] = positionCol\n",
    "    \n",
    "#     # Add the hazard rate column. \n",
    "#     # Load the sim_data.csv file.\n",
    "#     simulation = os.path.expanduser(\n",
    "#             '~/Documents/GitHub/Analysis_Audio2AFC_ChangePoint/sim_data.csv'\n",
    "#     )\n",
    "    \n",
    "#     simulation_data = pd.read_csv(simulation)\n",
    "#     data = data.merge(simulation_data['hazard'], left_index=True, right_index=True)\n",
    "    \n",
    "#     # Iterate over the rows in the source, checking the previous row and comparing it to the first one to see if there is \n",
    "#     # a source switch.\n",
    "#     # This fills out the sourceSwitch column.\n",
    "\n",
    "#     data['sourceChange'] = data['source'].shift(1)\n",
    "#     data['sourceSwitch'] = data['source'] != data['sourceChange']\n",
    "    \n",
    "#     # Iterate over the rows in the sourceSwitch column and fill the posSinceCP column. \n",
    "#     #If there has been a switch, set the counter to 0, else, keep on iterating the counter. \n",
    "\n",
    "#     count_switches = 0\n",
    "\n",
    "#     for row_number in range(len(data)):\n",
    "\n",
    "#         isSwitch = data.iloc[row_number, 4]\n",
    "#         if isSwitch:\n",
    "#             count_switches = 0\n",
    "#         else:\n",
    "#             count_switches+=1\n",
    "#         data.iloc[row_number, 5] = count_switches\n",
    "    \n",
    "#     return data\n",
    "\n",
    "\n",
    "    "
   ]
  },
  {
   "cell_type": "code",
   "execution_count": null,
   "metadata": {},
   "outputs": [],
   "source": [
    "# def extract_hazard(data):\n",
    "#     # Finding the maximum value in the posSinceCP column to find the range of iterations.\n",
    "\n",
    "#     high_hazard_extracted = data[data['hazard'] == 0.9].copy()\n",
    "#     low_hazard_extracted = data[data['hazard'] == 0.1].copy()\n",
    "#     max_value_high = high_hazard_extracted['posSinceCP'].max()\n",
    "#     max_value_low = low_hazard_extracted['posSinceCP'].max()\n",
    "    \n",
    "    \n",
    "#     #List to keep track of the percentage correct per value of the position counter.\n",
    "#     list_of_percentages_low = []\n",
    "#     list_of_percentages_high = []\n",
    "\n",
    "#     # Calculates % correct per each value of position counter: number of correct answers / number of trials (rows).\n",
    "#     # For high hazard rate.\n",
    "#     for val in range(0, int(max_value_high+1)):\n",
    "\n",
    "#         extracted_df_high = data[(data['posSinceCP'] == val) & (data['hazard']==0.9)].copy()\n",
    "#         percent_correct_high = extracted_df_high['correct'].sum() / len(extracted_df_high)\n",
    "#         list_of_percentages_high.append(percent_correct_high)\n",
    "        \n",
    "\n",
    "#     # Calculates % correct per each value of position counter: number of correct answers / number of trials (rows).\n",
    "#     # For low hazard rate.\n",
    "#     for val in range(0, int(max_value_low+1)):\n",
    "\n",
    "#         extracted_df_low = data[(data['posSinceCP'] == val) & (data['hazard']==0.1)].copy()\n",
    "#         percent_correct_low = extracted_df_low['correct'].sum() / len(extracted_df_low)\n",
    "#         list_of_percentages_low.append(percent_correct_low)\n",
    "        \n",
    "#     vector_high = np.arange(0,(max_value_high+1))\n",
    "#     vector_low = np.arange(0, (max_value_low+1))\n",
    "    \n",
    "        \n",
    "#     return list_of_percentages_high, list_of_percentages_low, vector_high, vector_low"
   ]
  },
  {
   "cell_type": "code",
   "execution_count": null,
   "metadata": {},
   "outputs": [],
   "source": [
    "# def get_timestamp(dataframe, subject, task_type):\n",
    "#     timestamp = dataframe[(dataframe['subject']==subject) & (dataframe['block']==task_type)]\n",
    "#     return timestamp.iloc[0,0]\n"
   ]
  },
  {
   "cell_type": "code",
   "execution_count": null,
   "metadata": {
    "scrolled": true
   },
   "outputs": [],
   "source": [
    "# # Specify the full path name to the data folder.\n",
    "# # This needs to be done per subject and per each session separately.\n",
    "\n",
    "# pred_list = []\n",
    "# rep_list = []\n",
    "\n",
    "# num_subjects = 4\n",
    "# for subject in range(num_subjects): \n",
    "    \n",
    "#     # Subject 1 Report Task \n",
    "#     rep = os.path.expanduser(\n",
    "#         '~/Documents/MATLAB/Audio2AFC_CP/processed/' +\n",
    "#         get_timestamp(read_data_map, subject+1, 'rep') + '/pilot' +\n",
    "#         str(subject+1) + 'rep_FIRA_valid_trials.csv'\n",
    "#     )\n",
    "    \n",
    "#     processed_rep = produce_df(rep)\n",
    "#     rep_list.append(processed_rep)\n",
    "\n",
    "#     # Subject 1 Prediction Task \n",
    "#     pred = os.path.expanduser(\n",
    "#         '~/Documents/MATLAB/Audio2AFC_CP/processed/' + get_timestamp(read_data_map, subject+1, 'pred') + '/pilot' +\n",
    "#         str(subject+1) + 'pred_FIRA_valid_trials.csv'\n",
    "#     )\n",
    "    \n",
    "#     processed_pred = produce_df(pred)\n",
    "#     pred_list.append(processed_pred)\n",
    "\n",
    "\n",
    "\n",
    "# final_data_rep = pd.concat(rep_list)\n",
    "# final_data_pred = pd.concat(pred_list)\n",
    "\n",
    "# high_rep_list, low_rep_list, vector_rep_high, vector_rep_low = extract_hazard(final_data_rep)\n",
    "# high_pred_list, low_pred_list, vector_pred_high, vector_pred_low = extract_hazard(final_data_pred)\n",
    "\n"
   ]
  },
  {
   "cell_type": "code",
   "execution_count": null,
   "metadata": {},
   "outputs": [],
   "source": [
    "# counter =0\n",
    "# high_h = final_data_pred[final_data_pred['hazard']==0.9].copy()\n",
    "# for row in range(len(high_h)):\n",
    "#     counter = counter + 1 if not high_h['sourceSwitch'].iloc[row] else 0\n",
    "#     if counter == 2:\n",
    "#         print(row)\n",
    "#         break"
   ]
  },
  {
   "cell_type": "code",
   "execution_count": null,
   "metadata": {},
   "outputs": [],
   "source": [
    "# print(high_h.iloc[135:145, :])"
   ]
  },
  {
   "cell_type": "code",
   "execution_count": null,
   "metadata": {},
   "outputs": [],
   "source": [
    "# simulation = os.path.expanduser(\n",
    "#         '~/Documents/GitHub/Analysis_Audio2AFC_ChangePoint/sim_data.csv'\n",
    "# )\n",
    "\n",
    "# simulation_data = pd.read_csv(simulation)\n",
    "# # high_h2 = simulation_data[simulation_data['hazard']==0.9].copy()\n",
    "# print(simulation_data.iloc[275:285,:])"
   ]
  },
  {
   "cell_type": "code",
   "execution_count": null,
   "metadata": {},
   "outputs": [],
   "source": [
    "# # Plotting: percent correct vs. number of trials since the changepoint. \n",
    "# %matplotlib inline\n",
    "# plt.rcParams[\"figure.figsize\"] = (10, 9) # (w, h) # figure size \n",
    "# plt.rcParams.update({'font.size': 18})\n",
    "\n",
    "# #Plotting the report task over 4 subjects.\n",
    "# plt.plot(vector_rep_low, low_rep_list, linewidth = 2)\n",
    "# plt.plot(vector_rep_high, high_rep_list, linewidth = 2)\n",
    "# plt.title(\"Report Task\")\n",
    "# plt.legend(['low hazard rate', 'high hazard rate'])\n",
    "# plt.xlabel('number of trials since change point')\n",
    "# plt.ylabel('percentage correct')\n"
   ]
  },
  {
   "cell_type": "code",
   "execution_count": null,
   "metadata": {
    "scrolled": false
   },
   "outputs": [],
   "source": [
    "# # Plotting the prediction task over 4 subjects.\n",
    "# plt.plot(vector_pred_low, low_pred_list, linewidth = 2)\n",
    "# plt.plot(vector_pred_high, high_pred_list, linewidth = 2)\n",
    "# plt.title(\"Prediction Task\")\n",
    "# plt.legend(['low hazard rate', 'high hazard rate'])\n",
    "# plt.xlabel('number of trials since change point')\n",
    "# plt.ylabel('percentage correct')\n"
   ]
  },
  {
   "cell_type": "code",
   "execution_count": null,
   "metadata": {},
   "outputs": [],
   "source": [
    "# simulation = os.path.expanduser(\n",
    "#         '~/Documents/GitHub/Analysis_Audio2AFC_ChangePoint/sim_data.csv'\n",
    "# )\n",
    "\n",
    "# simulation_data = pd.read_csv(simulation)\n",
    "# high_h = simulation_data[simulation_data['hazard']==0.9].copy()\n",
    "# high_h.head()"
   ]
  },
  {
   "cell_type": "code",
   "execution_count": null,
   "metadata": {},
   "outputs": [],
   "source": [
    "# row = 0\n",
    "# print(type(high_h['source_switch'].iloc[row]))"
   ]
  },
  {
   "cell_type": "code",
   "execution_count": null,
   "metadata": {},
   "outputs": [],
   "source": [
    "# a=1 if 2==3 else 0\n",
    "# print(a)"
   ]
  },
  {
   "cell_type": "code",
   "execution_count": null,
   "metadata": {},
   "outputs": [],
   "source": [
    "# counter =0\n",
    "# for row in range(len(high_h)):\n",
    "#     counter = counter + 1 if not high_h['source_switch'].iloc[row] else 0\n",
    "#     if counter == 2:\n",
    "#         print(row)\n",
    "#         break"
   ]
  }
 ],
 "metadata": {
  "kernelspec": {
   "display_name": "mmmcomplexity_windows",
   "language": "python",
   "name": "mmmcomplexity_windows"
  },
  "language_info": {
   "codemirror_mode": {
    "name": "ipython",
    "version": 3
   },
   "file_extension": ".py",
   "mimetype": "text/x-python",
   "name": "python",
   "nbconvert_exporter": "python",
   "pygments_lexer": "ipython3",
   "version": "3.7.3"
  }
 },
 "nbformat": 4,
 "nbformat_minor": 2
}
